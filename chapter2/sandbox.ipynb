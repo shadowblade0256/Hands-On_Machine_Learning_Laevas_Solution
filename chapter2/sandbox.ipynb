{
 "cells": [
  {
   "cell_type": "code",
   "execution_count": 1,
   "metadata": {},
   "outputs": [
    {
     "name": "stdout",
     "output_type": "stream",
     "text": [
      "[[ 0.48731885 -0.69566854 -0.05219745 ...  0.          0.\n",
      "   0.        ]\n",
      " [ 0.62195632 -0.84536238 -1.87872811 ...  0.          0.\n",
      "   0.        ]\n",
      " [-1.18816975  0.79659199 -0.84634121 ...  0.          0.\n",
      "   0.        ]\n",
      " ...\n",
      " [-0.96876053  1.37665564 -0.36985495 ...  0.          0.\n",
      "   0.        ]\n",
      " [ 0.61198318 -0.77519339  1.45667571 ...  0.          0.\n",
      "   0.        ]\n",
      " [ 0.6269429  -0.84068445  1.05960383 ...  0.          0.\n",
      "   0.        ]]\n"
     ]
    }
   ],
   "source": [
    "%run pipeline_builder.py"
   ]
  },
  {
   "cell_type": "code",
   "execution_count": 5,
   "metadata": {},
   "outputs": [
    {
     "data": {
      "text/plain": [
       "<function ndarray.view>"
      ]
     },
     "execution_count": 5,
     "metadata": {},
     "output_type": "execute_result"
    }
   ],
   "source": [
    "output.view"
   ]
  }
 ],
 "metadata": {
  "interpreter": {
   "hash": "b3ba2566441a7c06988d0923437866b63cedc61552a5af99d1f4fb67d367b25f"
  },
  "kernelspec": {
   "display_name": "Python 3.8.8 64-bit ('base': conda)",
   "name": "python3"
  },
  "language_info": {
   "codemirror_mode": {
    "name": "ipython",
    "version": 3
   },
   "file_extension": ".py",
   "mimetype": "text/x-python",
   "name": "python",
   "nbconvert_exporter": "python",
   "pygments_lexer": "ipython3",
   "version": "3.8.8"
  },
  "orig_nbformat": 2
 },
 "nbformat": 4,
 "nbformat_minor": 2
}
